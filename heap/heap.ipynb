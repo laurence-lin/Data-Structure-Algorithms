{
 "cells": [
  {
   "cell_type": "code",
   "execution_count": 5,
   "id": "efee46d5-fca2-48bb-b90a-5404e1f43888",
   "metadata": {},
   "outputs": [
    {
     "name": "stdout",
     "output_type": "stream",
     "text": [
      "Create a heap\n"
     ]
    }
   ],
   "source": [
    "import heapq\n",
    "\n",
    "\n",
    "print(\"Create a heap\")"
   ]
  },
  {
   "cell_type": "code",
   "execution_count": 2,
   "id": "92455fe1-96e9-4347-8ee7-8649c69c3419",
   "metadata": {},
   "outputs": [
    {
     "data": {
      "text/plain": [
       "[1, 3, 5, 78, 21, 45]"
      ]
     },
     "execution_count": 2,
     "metadata": {},
     "output_type": "execute_result"
    }
   ],
   "source": [
    "\n",
    "raw_list = [21,1,45,78,3,5]\n",
    "\n",
    "heapq.heapify(raw_list)\n",
    "\n",
    "raw_list\n"
   ]
  },
  {
   "cell_type": "markdown",
   "id": "baef7a20-cba7-4b43-86a4-ae7de8a4d526",
   "metadata": {},
   "source": [
    "#### Add element to heap"
   ]
  },
  {
   "cell_type": "code",
   "execution_count": 4,
   "id": "4d912c16-a97e-4923-b916-33ea20113dfe",
   "metadata": {},
   "outputs": [
    {
     "data": {
      "text/plain": [
       "[1, 3, 5, 78, 21, 45, 88]"
      ]
     },
     "execution_count": 4,
     "metadata": {},
     "output_type": "execute_result"
    }
   ],
   "source": [
    "heapq.heappush(raw_list, 88)\n",
    "\n",
    "raw_list"
   ]
  },
  {
   "cell_type": "code",
   "execution_count": 6,
   "id": "0acc1b0b-21fb-4f50-80f7-eee4603c0364",
   "metadata": {},
   "outputs": [
    {
     "data": {
      "text/plain": [
       "[1, 2, 5, 3, 21, 45, 88, 78]"
      ]
     },
     "execution_count": 6,
     "metadata": {},
     "output_type": "execute_result"
    }
   ],
   "source": [
    "heapq.heappush(raw_list, 2)\n",
    "raw_list"
   ]
  },
  {
   "cell_type": "markdown",
   "id": "7848107e-8e36-4556-af04-07d7c2b8f6c5",
   "metadata": {},
   "source": [
    "#### Remove from heap"
   ]
  },
  {
   "cell_type": "code",
   "execution_count": 9,
   "id": "61e3ca4c-198d-4a91-8138-5520f114dd1d",
   "metadata": {},
   "outputs": [
    {
     "data": {
      "text/plain": [
       "[2, 3, 5, 78, 21, 45, 88]"
      ]
     },
     "execution_count": 9,
     "metadata": {},
     "output_type": "execute_result"
    }
   ],
   "source": [
    "heapq.heappop(raw_list)\n",
    "\n",
    "raw_list\n"
   ]
  },
  {
   "cell_type": "code",
   "execution_count": 12,
   "id": "563feaeb-b5e0-4ffc-acdc-9910f700ff7f",
   "metadata": {},
   "outputs": [
    {
     "data": {
      "text/plain": [
       "[3, 21, 5, 78, 99, 45, 88]"
      ]
     },
     "execution_count": 12,
     "metadata": {},
     "output_type": "execute_result"
    }
   ],
   "source": [
    "heapq.heapreplace(raw_list, 99)\n",
    "raw_list"
   ]
  },
  {
   "cell_type": "code",
   "execution_count": null,
   "id": "8e72a802-6fcc-4a49-86a5-a40f7bac26b9",
   "metadata": {},
   "outputs": [],
   "source": []
  }
 ],
 "metadata": {
  "kernelspec": {
   "display_name": "Python 3 (ipykernel)",
   "language": "python",
   "name": "python3"
  },
  "language_info": {
   "codemirror_mode": {
    "name": "ipython",
    "version": 3
   },
   "file_extension": ".py",
   "mimetype": "text/x-python",
   "name": "python",
   "nbconvert_exporter": "python",
   "pygments_lexer": "ipython3",
   "version": "3.8.10"
  }
 },
 "nbformat": 4,
 "nbformat_minor": 5
}
