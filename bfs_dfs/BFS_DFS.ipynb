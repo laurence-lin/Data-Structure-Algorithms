{
 "cells": [
  {
   "cell_type": "code",
   "execution_count": 2,
   "id": "7d58580c-ac94-4a2d-a068-0da93664242a",
   "metadata": {},
   "outputs": [
    {
     "data": {
      "image/png": "[encoded data removed]",
      "text/plain": [
       "<Figure size 432x288 with 1 Axes>"
      ]
     },
     "metadata": {},
     "output_type": "display_data"
    }
   ],
   "source": [
    "\n",
    "# Creaet a graph of nodes\n",
    "import networkx as nx\n",
    "from matplotlib import pyplot as plt\n",
    "plt.rcParams[\"figure.figsize\"] = (10,10)\n",
    "\n",
    "G = nx.random_graphs.fast_gnp_random_graph(7, 0.4)\n",
    "\n",
    "def draw_graph(G):\n",
    "    pos = nx.spring_layout(G)\n",
    "    nx.draw_networkx_nodes(G, pos, node_size=500, alpha=0.5)\n",
    "    nx.draw_networkx_labels(G, pos)\n",
    "    nx.draw_networkx_edges(G, pos, width=1.0, alpha=0.5)\n",
    "draw_graph(G)\n"
   ]
  },
  {
   "cell_type": "code",
   "execution_count": 3,
   "id": "54a8d8d0-e492-4e01-bc3d-e18e906e2f6d",
   "metadata": {},
   "outputs": [
    {
     "data": {
      "text/plain": [
       "NodeView((0, 1, 2, 3, 4, 5, 6))"
      ]
     },
     "execution_count": 3,
     "metadata": {},
     "output_type": "execute_result"
    }
   ],
   "source": [
    "G.nodes # all nodes"
   ]
  },
  {
   "cell_type": "code",
   "execution_count": 4,
   "id": "2f0dbe52-589b-4405-b527-301673e3bcf6",
   "metadata": {},
   "outputs": [
    {
     "data": {
      "text/plain": [
       "EdgeView([(0, 3), (0, 5), (1, 2), (1, 3), (1, 5), (1, 6), (2, 4), (2, 5), (2, 6), (3, 5), (3, 6), (5, 6)])"
      ]
     },
     "execution_count": 4,
     "metadata": {},
     "output_type": "execute_result"
    }
   ],
   "source": [
    "G.edges  # show all connections"
   ]
  },
  {
   "cell_type": "code",
   "execution_count": 22,
   "id": "01514926-4f2e-4100-bc4f-7c02cc3b518e",
   "metadata": {},
   "outputs": [],
   "source": [
    "# adjacency list\n",
    "graph = {\n",
    "    'A': [\"B\", \"D\", \"E\"],\n",
    "    'B': [\"A\", \"C\"],\n",
    "    'C': [\"B\", \"E\"],\n",
    "    'D': [\"A\", \"E\"],\n",
    "    'E': [\"A\", \"D\", \"F\", \"C\"],\n",
    "    'F': [\"E\"]     \n",
    "}   \n",
    "\n",
    "def bfs(graph, start, search_val):\n",
    "    # Accept graph: adjacent list\n",
    "    # visited: store historical visited nodes (non-repeated)\n",
    "    # result: store the historical search route, each element follow order of current node\n",
    "    # queue: searching candidate (neighbors of current node) in next round\n",
    "    queue = []\n",
    "    queue.append(start)\n",
    "    find_or_not = 'False'\n",
    "    \n",
    "    result = []\n",
    "    visited = set() # historical visited node, use set() which is unique in elements\n",
    "    visited.add(start)\n",
    "    \n",
    "    while (len(queue) > 0):\n",
    "        currentNode = queue.pop(0) # use 'neighbor node of last current node' as start node at this iteration\n",
    "        result.append(currentNode)\n",
    "        \n",
    "        for neighbor in graph[currentNode]:\n",
    "            if neighbor not in visited:\n",
    "                queue.append(neighbor)  \n",
    "                # everytime move a step on neighbor node, append 'neighbor of current neighbor' as search candidate for next round \n",
    "                visited.add(neighbor)\n",
    "                # record visited nodes everytime we scan over neighbors\n",
    "                \n",
    "        if search_val in visited:\n",
    "            find_or_not = 'True'\n",
    "            return result, find_or_not, visited\n",
    "    \n",
    "    return result, find_or_not, visited\n",
    "\n"
   ]
  },
  {
   "cell_type": "code",
   "execution_count": 34,
   "id": "40a8f6d9-2622-4c18-b670-1975382de4b4",
   "metadata": {},
   "outputs": [
    {
     "name": "stdout",
     "output_type": "stream",
     "text": [
      "Search result: True\n",
      "Search route: ['B', 'A', 'C', 'D', 'E']\n",
      "CPU times: user 197 µs, sys: 80 µs, total: 277 µs\n",
      "Wall time: 220 µs\n"
     ]
    }
   ],
   "source": [
    "%%time\n",
    "\n",
    "result, find_or_not, visited = bfs(graph, 'B', 'F')\n",
    "print(\"Search result:\", find_or_not)\n",
    "print(\"Search route:\", result)"
   ]
  },
  {
   "cell_type": "code",
   "execution_count": 18,
   "id": "bd09ebd2-a690-4b15-a05d-16ee43b5ddae",
   "metadata": {},
   "outputs": [
    {
     "data": {
      "text/plain": [
       "{'A', 'B', 'C', 'D', 'E', 'F'}"
      ]
     },
     "execution_count": 18,
     "metadata": {},
     "output_type": "execute_result"
    }
   ],
   "source": [
    "visited"
   ]
  },
  {
   "cell_type": "code",
   "execution_count": 35,
   "id": "525ea176-0715-426a-b625-f7d9dd409c33",
   "metadata": {},
   "outputs": [],
   "source": [
    "def dfs(graph,start, search_val):\n",
    "    # stack: used to store remain searching space for the target\n",
    "    # visited: historical visited nodes during searching\n",
    "    # difference with BFS: strategy when selecting next current node\n",
    "    \n",
    "    find_or_not = 'False'\n",
    "    stack = []\n",
    "    result = []\n",
    "    stack.append(start)\n",
    "    visited = set()\n",
    "    visited.add(start)\n",
    "    while(len(stack)>0):\n",
    "        currentVertex = stack.pop() # depth first search: use the frontend edge node as current node\n",
    "        result.append(currentVertex)\n",
    "        for neighbor in graph[currentVertex]:\n",
    "            if neighbor not in visited:\n",
    "                stack.append(neighbor)\n",
    "                visited.add(neighbor)\n",
    "                \n",
    "                \n",
    "        if search_val in visited:\n",
    "            find_or_not = 'True'\n",
    "            return result, visited, find_or_not\n",
    "                \n",
    "    return result, visited, find_or_not\n",
    "\n"
   ]
  },
  {
   "cell_type": "code",
   "execution_count": 36,
   "id": "3a83bc82-f865-452e-b20a-4dd757db4fe6",
   "metadata": {},
   "outputs": [
    {
     "name": "stdout",
     "output_type": "stream",
     "text": [
      "Searching route: ['B', 'C', 'E']\n",
      "Visited nodes:  {'B', 'F', 'D', 'E', 'C', 'A'}\n",
      "Search result:  True\n",
      "CPU times: user 108 µs, sys: 45 µs, total: 153 µs\n",
      "Wall time: 99.4 µs\n"
     ]
    }
   ],
   "source": [
    "%%time \n",
    "\n",
    "result, visited, find_or_not = dfs(graph, 'B', 'F')\n",
    "print(\"Searching route:\", result)\n",
    "print(\"Visited nodes: \", visited)\n",
    "print(\"Search result: \", find_or_not)\n"
   ]
  },
  {
   "cell_type": "code",
   "execution_count": 31,
   "id": "7525c975-987b-4a26-b06e-f801f3d469a7",
   "metadata": {},
   "outputs": [
    {
     "data": {
      "text/plain": [
       "3"
      ]
     },
     "execution_count": 31,
     "metadata": {},
     "output_type": "execute_result"
    }
   ],
   "source": [
    "x = [1, 2, 3]\n",
    "x.pop()"
   ]
  },
  {
   "cell_type": "code",
   "execution_count": 32,
   "id": "badf0e5b-40ac-4f08-88ad-712a8fbbf97b",
   "metadata": {},
   "outputs": [
    {
     "data": {
      "text/plain": [
       "[1, 2]"
      ]
     },
     "execution_count": 32,
     "metadata": {},
     "output_type": "execute_result"
    }
   ],
   "source": [
    "x"
   ]
  },
  {
   "cell_type": "code",
   "execution_count": null,
   "id": "bc8f4fba-9b62-43af-a0df-1555a5c287e7",
   "metadata": {},
   "outputs": [],
   "source": []
  }
 ],
 "metadata": {
  "kernelspec": {
   "display_name": "Python 3 (ipykernel)",
   "language": "python",
   "name": "python3"
  },
  "language_info": {
   "codemirror_mode": {
    "name": "ipython",
    "version": 3
   },
   "file_extension": ".py",
   "mimetype": "text/x-python",
   "name": "python",
   "nbconvert_exporter": "python",
   "pygments_lexer": "ipython3",
   "version": "3.8.10"
  }
 },
 "nbformat": 4,
 "nbformat_minor": 5
}
