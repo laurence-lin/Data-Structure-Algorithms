{
 "cells": [
  {
   "cell_type": "markdown",
   "id": "65e774d7-65d4-486c-ac95-4d19e5976969",
   "metadata": {},
   "source": [
    "### Queue: first-in first-out data structure. We insert into front, and remove elements from front\n",
    "### Stack: first-in last-out data structure. We insert into front, and remove elements from end\n",
    "### Dequeue: double ended queue, avaliable to get in and out from both sides. Stack & Queue are degenerated from dequeue"
   ]
  },
  {
   "cell_type": "code",
   "execution_count": 13,
   "id": "c5c28b83-2054-4528-8434-17923ebbc2c8",
   "metadata": {},
   "outputs": [],
   "source": [
    "class Queue:\n",
    "   def __init__(self):\n",
    "      self.queue = list()\n",
    "\n",
    "   def addtoq(self,dataval):\n",
    "    # Insert method to add element\n",
    "       if dataval not in self.queue:\n",
    "          self.queue.insert(0,dataval) # in order to use pop() to remove, insert to front\n",
    "          return True\n",
    "       return False\n",
    "\n",
    "   def size(self):\n",
    "      return len(self.queue)\n",
    "\n",
    "   def rm_q(self):\n",
    "       # pop from list the \n",
    "      if len(self.queue) > 0:\n",
    "            return self.queue.pop()\n",
    "        \n",
    "      return \"No elements in Queue!\"\n"
   ]
  },
  {
   "cell_type": "code",
   "execution_count": 14,
   "id": "dc50e100-d059-4ffc-849b-4061a9010e48",
   "metadata": {},
   "outputs": [
    {
     "name": "stdout",
     "output_type": "stream",
     "text": [
      "3\n",
      "Queue value:\n",
      "[3, 2, 1]\n",
      "After pop:\n",
      "[3, 2]\n"
     ]
    }
   ],
   "source": [
    "q = Queue()\n",
    "q.addtoq(1)\n",
    "q.addtoq(2)\n",
    "q.addtoq(3)\n",
    "\n",
    "\n",
    "print(q.size())\n",
    "print(\"Queue value:\")\n",
    "print(q.queue)\n",
    "q.rm_q()\n",
    "print(\"After pop:\")\n",
    "print(q.queue)"
   ]
  },
  {
   "cell_type": "markdown",
   "id": "ffa3cc0f-6663-40ed-84d9-d1f83f3492a5",
   "metadata": {},
   "source": [
    "### Stack: working with stack, we have push() and pop(). Push() add elements at the end, pop() remove elements from end"
   ]
  },
  {
   "cell_type": "code",
   "execution_count": 20,
   "id": "7abf2cb3-fea0-4f1a-a1d2-3d2da8fc8c29",
   "metadata": {},
   "outputs": [],
   "source": [
    "\n",
    "class Stack:\n",
    "   def __init__(self):\n",
    "      self.stack = []\n",
    "\n",
    "   def add(self, dataval):\n",
    "      # Push() method\n",
    "# Use list append method to add element\n",
    "      if dataval not in self.stack:\n",
    "         self.stack.append(dataval)\n",
    "         return True\n",
    "      else:\n",
    "         return False\n",
    "# Use peek to look at the top of the stack\n",
    "   def peek(self):     \n",
    "\t   return self.stack[-1]\n",
    "\n",
    "   def pop(self):\n",
    "        if len(self.stack) > 0:\n",
    "            return self.stack.pop()\n",
    "        else:\n",
    "            return \"No values in stack!\""
   ]
  },
  {
   "cell_type": "code",
   "execution_count": 21,
   "id": "572acb16-6816-4e08-86d6-5ef670f926fe",
   "metadata": {},
   "outputs": [
    {
     "name": "stdout",
     "output_type": "stream",
     "text": [
      "Current stack:\n",
      "[1, 2, 3]\n",
      "Peek at stack:\n",
      "3\n",
      "After pop\n",
      "[1, 2]\n",
      "After pop\n",
      "[1]\n"
     ]
    }
   ],
   "source": [
    "\n",
    "st = Stack()\n",
    "st.add(1)\n",
    "st.add(2)\n",
    "st.add(3)\n",
    "print(\"Current stack:\")\n",
    "print(st.stack)\n",
    "\n",
    "print(\"Peek at stack:\")\n",
    "print(st.peek())\n",
    "\n",
    "st.pop()\n",
    "print(\"After pop\")\n",
    "print(st.stack)\n",
    "st.pop()\n",
    "print(\"After pop\")\n",
    "print(st.stack)\n"
   ]
  },
  {
   "cell_type": "code",
   "execution_count": 19,
   "id": "7e82d764-738e-4058-8108-635aea34ca2a",
   "metadata": {},
   "outputs": [
    {
     "name": "stdout",
     "output_type": "stream",
     "text": [
      "[1, 2, 3, 4]\n",
      "[1, 2, 3]\n"
     ]
    }
   ],
   "source": [
    "x = [1, 2, 3]\n",
    "x.append(4)\n",
    "print(x)\n",
    "x.pop()\n",
    "print(x)"
   ]
  },
  {
   "cell_type": "markdown",
   "id": "93017397-5130-4c92-a3aa-b2ebaa42cc6c",
   "metadata": {},
   "source": [
    "### Dequeue"
   ]
  },
  {
   "cell_type": "code",
   "execution_count": 16,
   "id": "c10b83b0-7f82-4505-b10e-783a10a3dafe",
   "metadata": {},
   "outputs": [
    {
     "name": "stdout",
     "output_type": "stream",
     "text": [
      "Original dequeue:\n",
      "deque(['Mon', 'Tue', 'Wed'])\n",
      "Appended at right - \n",
      "deque(['Mon', 'Tue', 'Wed', 'Thu'])\n",
      "Appended at right at left is - \n",
      "deque(['Sun', 'Mon', 'Tue', 'Wed', 'Thu'])\n",
      "Deleting from right - \n",
      "deque(['Sun', 'Mon', 'Tue', 'Wed'])\n",
      "Deleting from left - \n",
      "deque(['Mon', 'Tue', 'Wed'])\n"
     ]
    }
   ],
   "source": [
    "import collections\n",
    "\n",
    "DoubleEnded = collections.deque([\"Mon\",\"Tue\",\"Wed\"])\n",
    "print(\"Original dequeue:\")\n",
    "print(DoubleEnded)\n",
    "DoubleEnded.append(\"Thu\")\n",
    "\n",
    "print (\"Appended at right - \")\n",
    "print (DoubleEnded)\n",
    "\n",
    "DoubleEnded.appendleft(\"Sun\")\n",
    "print (\"Appended at right at left is - \")\n",
    "print (DoubleEnded)\n",
    "\n",
    "DoubleEnded.pop()\n",
    "print (\"Deleting from right - \")\n",
    "print (DoubleEnded)\n",
    "\n",
    "DoubleEnded.popleft()\n",
    "print (\"Deleting from left - \")\n",
    "print (DoubleEnded)"
   ]
  },
  {
   "cell_type": "code",
   "execution_count": null,
   "id": "e69037d4-a115-4f04-bb07-15a4bfc3022c",
   "metadata": {},
   "outputs": [],
   "source": []
  }
 ],
 "metadata": {
  "kernelspec": {
   "display_name": "Python 3 (ipykernel)",
   "language": "python",
   "name": "python3"
  },
  "language_info": {
   "codemirror_mode": {
    "name": "ipython",
    "version": 3
   },
   "file_extension": ".py",
   "mimetype": "text/x-python",
   "name": "python",
   "nbconvert_exporter": "python",
   "pygments_lexer": "ipython3",
   "version": "3.8.10"
  }
 },
 "nbformat": 4,
 "nbformat_minor": 5
}
