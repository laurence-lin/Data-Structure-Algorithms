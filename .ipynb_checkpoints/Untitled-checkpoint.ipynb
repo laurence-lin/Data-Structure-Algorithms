{
 "cells": [
  {
   "cell_type": "code",
   "execution_count": 1,
   "id": "b674b89e-3607-47da-ac17-7171cc836e97",
   "metadata": {},
   "outputs": [],
   "source": [
    "import numpy as np\n",
    "from typing import List\n",
    "import time\n",
    "\n",
    "# Binary search: the fastest search alrogithm in most cases\n",
    "# Require the search list to be sorted\n",
    "\n",
    "\n"
   ]
  },
  {
   "cell_type": "code",
   "execution_count": 9,
   "id": "d8925c38-c8c2-4603-ba55-c45b9aa250a0",
   "metadata": {},
   "outputs": [],
   "source": [
    "\n",
    "def mid_val(list_):\n",
    "    mid_ind = len(list_)//2\n",
    "    if len(list_)%2 == 0:\n",
    "        return (list_[mid_ind - 1] + list_[mid_ind])/2\n",
    "    else:\n",
    "        return list_[mid_ind]\n",
    "\n",
    "def binary_search(list_: List, value):\n",
    "    # If not exist, return -1\n",
    "\n",
    "    start = 0\n",
    "    end = len(list_) - 1\n",
    "    \n",
    "    while (end >= start):\n",
    "        mid_ind = (end + start)//2\n",
    "        # if 6//2=3, mid_ind=3-1=2\n",
    "        # if 5//2=2, mid_ind=2\n",
    "        if list_[mid_ind] == value:\n",
    "            return mid_ind\n",
    "        \n",
    "        elif list_[mid_ind] > value:\n",
    "            end = mid_ind - 1\n",
    "            \n",
    "        elif list_[mid_ind] < value:\n",
    "            start = mid_ind + 1\n",
    "    \n",
    "    return -1 # return -1 in case not found\n",
    "\n",
    "\n"
   ]
  },
  {
   "cell_type": "code",
   "execution_count": 7,
   "id": "1b03ccbd-6baf-4456-a645-e431b9123aa3",
   "metadata": {},
   "outputs": [
    {
     "data": {
      "text/plain": [
       "5"
      ]
     },
     "execution_count": 7,
     "metadata": {},
     "output_type": "execute_result"
    }
   ],
   "source": [
    "x = [1, 3,   5, 6, 7]\n",
    "\n",
    "mid_val(x)\n",
    "\n",
    "\n"
   ]
  },
  {
   "cell_type": "code",
   "execution_count": 10,
   "id": "9c74c296-4603-473d-98a9-51b84edaa87b",
   "metadata": {},
   "outputs": [
    {
     "name": "stdout",
     "output_type": "stream",
     "text": [
      "Search result:  10\n",
      "Time cost:  6.29425048828125e-05\n"
     ]
    }
   ],
   "source": [
    "search_list = [1, 5, 3, 5, 6, 7, 8, 4, 5, 6, 9, 10]\n",
    "value_1 = 9\n",
    "\n",
    "start = time.time()\n",
    "result = binary_search(search_list, value_1)\n",
    "end = time.time()\n",
    "\n",
    "\n",
    "print(\"Search result: \", result)\n",
    "print(\"Time cost: \", (end - start))"
   ]
  },
  {
   "cell_type": "code",
   "execution_count": null,
   "id": "954996c2-2aa5-421f-aecd-5783ece5308b",
   "metadata": {},
   "outputs": [],
   "source": []
  }
 ],
 "metadata": {
  "kernelspec": {
   "display_name": "Python 3 (ipykernel)",
   "language": "python",
   "name": "python3"
  },
  "language_info": {
   "codemirror_mode": {
    "name": "ipython",
    "version": 3
   },
   "file_extension": ".py",
   "mimetype": "text/x-python",
   "name": "python",
   "nbconvert_exporter": "python",
   "pygments_lexer": "ipython3",
   "version": "3.7.9"
  }
 },
 "nbformat": 4,
 "nbformat_minor": 5
}
